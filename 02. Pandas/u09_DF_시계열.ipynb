{
  "nbformat": 4,
  "nbformat_minor": 0,
  "metadata": {
    "colab": {
      "name": "u09_DF-시계열.ipynb",
      "provenance": []
    },
    "kernelspec": {
      "name": "python3",
      "display_name": "Python 3"
    },
    "language_info": {
      "name": "python"
    }
  },
  "cells": [
    {
      "cell_type": "markdown",
      "source": [
        "# 데이터 프레임 - 시계열 자료"
      ],
      "metadata": {
        "id": "QUglUyh7WYHR"
      }
    },
    {
      "cell_type": "code",
      "execution_count": 2,
      "metadata": {
        "id": "3yLYkdusWTnW"
      },
      "outputs": [],
      "source": [
        "import numpy as np\n",
        "import pandas as pd"
      ]
    },
    {
      "cell_type": "markdown",
      "source": [
        "- Datetimeindex 인덱스"
      ],
      "metadata": {
        "id": "xxhY1WvhWa_o"
      }
    },
    {
      "cell_type": "code",
      "source": [
        "date_str = ['2022, 4, 1',  '2022-4-2','20220403', '2022.4.4', '4/5/2022', '040622']\n",
        "idx = pd.to_datetime(date_str)\n",
        "idx"
      ],
      "metadata": {
        "colab": {
          "base_uri": "https://localhost:8080/"
        },
        "id": "WR7YY5aEWXop",
        "outputId": "92f02ed6-6324-481f-ef1a-551cf784c7a9"
      },
      "execution_count": 3,
      "outputs": [
        {
          "output_type": "execute_result",
          "data": {
            "text/plain": [
              "DatetimeIndex(['2022-04-01', '2022-04-02', '2022-04-03', '2022-04-04',\n",
              "               '2022-04-05', '2022-04-06'],\n",
              "              dtype='datetime64[ns]', freq=None)"
            ]
          },
          "metadata": {},
          "execution_count": 3
        }
      ]
    },
    {
      "cell_type": "code",
      "source": [
        "np.random.seed(2022)\n",
        "s = pd.Series(np.random.randint(40,101,6), index=idx)\n",
        "s"
      ],
      "metadata": {
        "colab": {
          "base_uri": "https://localhost:8080/"
        },
        "id": "Fp4dX4TrXYZI",
        "outputId": "b06ba098-0ca5-46a6-bd71-05858e830daf"
      },
      "execution_count": 4,
      "outputs": [
        {
          "output_type": "execute_result",
          "data": {
            "text/plain": [
              "2022-04-01    68\n",
              "2022-04-02    85\n",
              "2022-04-03    88\n",
              "2022-04-04    89\n",
              "2022-04-05    89\n",
              "2022-04-06    88\n",
              "dtype: int64"
            ]
          },
          "metadata": {},
          "execution_count": 4
        }
      ]
    },
    {
      "cell_type": "code",
      "source": [
        "pd.date_range('20220401', '2022.04.30')     # 시작일자, 종료일자"
      ],
      "metadata": {
        "colab": {
          "base_uri": "https://localhost:8080/"
        },
        "id": "-N-yQ6_9XvRY",
        "outputId": "9111efd0-b3e5-4ab7-db5d-3fc1b490d9fd"
      },
      "execution_count": 5,
      "outputs": [
        {
          "output_type": "execute_result",
          "data": {
            "text/plain": [
              "DatetimeIndex(['2022-04-01', '2022-04-02', '2022-04-03', '2022-04-04',\n",
              "               '2022-04-05', '2022-04-06', '2022-04-07', '2022-04-08',\n",
              "               '2022-04-09', '2022-04-10', '2022-04-11', '2022-04-12',\n",
              "               '2022-04-13', '2022-04-14', '2022-04-15', '2022-04-16',\n",
              "               '2022-04-17', '2022-04-18', '2022-04-19', '2022-04-20',\n",
              "               '2022-04-21', '2022-04-22', '2022-04-23', '2022-04-24',\n",
              "               '2022-04-25', '2022-04-26', '2022-04-27', '2022-04-28',\n",
              "               '2022-04-29', '2022-04-30'],\n",
              "              dtype='datetime64[ns]', freq='D')"
            ]
          },
          "metadata": {},
          "execution_count": 5
        }
      ]
    },
    {
      "cell_type": "code",
      "source": [
        "pd.date_range('20220401', periods=30)"
      ],
      "metadata": {
        "colab": {
          "base_uri": "https://localhost:8080/"
        },
        "id": "EHDsPrRyYP2T",
        "outputId": "7f0f4fdb-1097-4032-8397-a657edcf4372"
      },
      "execution_count": 6,
      "outputs": [
        {
          "output_type": "execute_result",
          "data": {
            "text/plain": [
              "DatetimeIndex(['2022-04-01', '2022-04-02', '2022-04-03', '2022-04-04',\n",
              "               '2022-04-05', '2022-04-06', '2022-04-07', '2022-04-08',\n",
              "               '2022-04-09', '2022-04-10', '2022-04-11', '2022-04-12',\n",
              "               '2022-04-13', '2022-04-14', '2022-04-15', '2022-04-16',\n",
              "               '2022-04-17', '2022-04-18', '2022-04-19', '2022-04-20',\n",
              "               '2022-04-21', '2022-04-22', '2022-04-23', '2022-04-24',\n",
              "               '2022-04-25', '2022-04-26', '2022-04-27', '2022-04-28',\n",
              "               '2022-04-29', '2022-04-30'],\n",
              "              dtype='datetime64[ns]', freq='D')"
            ]
          },
          "metadata": {},
          "execution_count": 6
        }
      ]
    },
    {
      "cell_type": "code",
      "source": [
        "# 주말을 제외한 주중 일자로 30개를 추출\n",
        "pd.date_range('20220401', periods=30, freq='B')"
      ],
      "metadata": {
        "colab": {
          "base_uri": "https://localhost:8080/"
        },
        "id": "KynOMFQjbOMl",
        "outputId": "fab58566-d154-4565-93b3-897685acf20a"
      },
      "execution_count": 8,
      "outputs": [
        {
          "output_type": "execute_result",
          "data": {
            "text/plain": [
              "DatetimeIndex(['2022-04-01', '2022-04-04', '2022-04-05', '2022-04-06',\n",
              "               '2022-04-07', '2022-04-08', '2022-04-11', '2022-04-12',\n",
              "               '2022-04-13', '2022-04-14', '2022-04-15', '2022-04-18',\n",
              "               '2022-04-19', '2022-04-20', '2022-04-21', '2022-04-22',\n",
              "               '2022-04-25', '2022-04-26', '2022-04-27', '2022-04-28',\n",
              "               '2022-04-29', '2022-05-02', '2022-05-03', '2022-05-04',\n",
              "               '2022-05-05', '2022-05-06', '2022-05-09', '2022-05-10',\n",
              "               '2022-05-11', '2022-05-12'],\n",
              "              dtype='datetime64[ns]', freq='B')"
            ]
          },
          "metadata": {},
          "execution_count": 8
        }
      ]
    },
    {
      "cell_type": "code",
      "source": [
        "# 일요일\n",
        "pd.date_range('20220401', '20220430', freq='W')"
      ],
      "metadata": {
        "colab": {
          "base_uri": "https://localhost:8080/"
        },
        "id": "5EADxiffbf6G",
        "outputId": "1d363a26-5dd3-4bb3-8117-5fc40f399d59"
      },
      "execution_count": 10,
      "outputs": [
        {
          "output_type": "execute_result",
          "data": {
            "text/plain": [
              "DatetimeIndex(['2022-04-03', '2022-04-10', '2022-04-17', '2022-04-24'], dtype='datetime64[ns]', freq='W-SUN')"
            ]
          },
          "metadata": {},
          "execution_count": 10
        }
      ]
    },
    {
      "cell_type": "markdown",
      "source": [
        "- resample"
      ],
      "metadata": {
        "id": "hFt1rjyNcG_6"
      }
    },
    {
      "cell_type": "code",
      "source": [
        "ts = pd.Series(np.random.randint(100, 1000, 100),\n",
        "               index=pd.date_range('20220101', periods=100))\n",
        "ts.tail()"
      ],
      "metadata": {
        "colab": {
          "base_uri": "https://localhost:8080/"
        },
        "id": "RML7xVKYb26K",
        "outputId": "4b996d3e-7e67-4751-c06c-fcd5cc55d0b2"
      },
      "execution_count": 13,
      "outputs": [
        {
          "output_type": "execute_result",
          "data": {
            "text/plain": [
              "2022-04-06    560\n",
              "2022-04-07    608\n",
              "2022-04-08    744\n",
              "2022-04-09    856\n",
              "2022-04-10    219\n",
              "Freq: D, dtype: int64"
            ]
          },
          "metadata": {},
          "execution_count": 13
        }
      ]
    },
    {
      "cell_type": "code",
      "source": [
        "ts.resample('M').first()"
      ],
      "metadata": {
        "colab": {
          "base_uri": "https://localhost:8080/"
        },
        "id": "Xu5oKcWUcofG",
        "outputId": "393fbfa8-6f05-4ff8-a208-bf175525f777"
      },
      "execution_count": 15,
      "outputs": [
        {
          "output_type": "execute_result",
          "data": {
            "text/plain": [
              "2022-01-31    956\n",
              "2022-02-28    344\n",
              "2022-03-31    486\n",
              "2022-04-30    162\n",
              "Freq: M, dtype: int64"
            ]
          },
          "metadata": {},
          "execution_count": 15
        }
      ]
    },
    {
      "cell_type": "code",
      "source": [
        "ts.resample('W').mean()"
      ],
      "metadata": {
        "colab": {
          "base_uri": "https://localhost:8080/"
        },
        "id": "pp8YuGI_c3wl",
        "outputId": "9a2c7e5e-9d2b-4c87-b6f2-82667d317123"
      },
      "execution_count": 16,
      "outputs": [
        {
          "output_type": "execute_result",
          "data": {
            "text/plain": [
              "2022-01-02    537.000000\n",
              "2022-01-09    513.285714\n",
              "2022-01-16    379.285714\n",
              "2022-01-23    555.571429\n",
              "2022-01-30    707.142857\n",
              "2022-02-06    406.000000\n",
              "2022-02-13    374.000000\n",
              "2022-02-20    524.571429\n",
              "2022-02-27    468.000000\n",
              "2022-03-06    582.857143\n",
              "2022-03-13    738.571429\n",
              "2022-03-20    541.000000\n",
              "2022-03-27    305.857143\n",
              "2022-04-03    479.000000\n",
              "2022-04-10    527.714286\n",
              "Freq: W-SUN, dtype: float64"
            ]
          },
          "metadata": {},
          "execution_count": 16
        }
      ]
    },
    {
      "cell_type": "code",
      "source": [
        "ts.head(3)"
      ],
      "metadata": {
        "colab": {
          "base_uri": "https://localhost:8080/"
        },
        "id": "QP_Dtmi5dIfJ",
        "outputId": "47aabd5f-2a7d-4bf2-f052-aa6ed65595e2"
      },
      "execution_count": 17,
      "outputs": [
        {
          "output_type": "execute_result",
          "data": {
            "text/plain": [
              "2022-01-01    956\n",
              "2022-01-02    118\n",
              "2022-01-03    124\n",
              "Freq: D, dtype: int64"
            ]
          },
          "metadata": {},
          "execution_count": 17
        }
      ]
    },
    {
      "cell_type": "code",
      "source": [
        "ts.head(31).tail(3)"
      ],
      "metadata": {
        "colab": {
          "base_uri": "https://localhost:8080/"
        },
        "id": "Jmao3gBwdS7V",
        "outputId": "ece0ac2c-8752-4c80-b210-325befba55dd"
      },
      "execution_count": 20,
      "outputs": [
        {
          "output_type": "execute_result",
          "data": {
            "text/plain": [
              "2022-01-29    955\n",
              "2022-01-30    825\n",
              "2022-01-31    521\n",
              "Freq: D, dtype: int64"
            ]
          },
          "metadata": {},
          "execution_count": 20
        }
      ]
    },
    {
      "cell_type": "code",
      "source": [
        "ts.resample('W').mean()"
      ],
      "metadata": {
        "colab": {
          "base_uri": "https://localhost:8080/"
        },
        "id": "rcPut0KAdUeD",
        "outputId": "3807abc4-fcc7-4341-da67-15eb3ea0e03c"
      },
      "execution_count": 19,
      "outputs": [
        {
          "output_type": "execute_result",
          "data": {
            "text/plain": [
              "2022-01-02    537.000000\n",
              "2022-01-09    513.285714\n",
              "2022-01-16    379.285714\n",
              "2022-01-23    555.571429\n",
              "2022-01-30    707.142857\n",
              "2022-02-06    406.000000\n",
              "2022-02-13    374.000000\n",
              "2022-02-20    524.571429\n",
              "2022-02-27    468.000000\n",
              "2022-03-06    582.857143\n",
              "2022-03-13    738.571429\n",
              "2022-03-20    541.000000\n",
              "2022-03-27    305.857143\n",
              "2022-04-03    479.000000\n",
              "2022-04-10    527.714286\n",
              "Freq: W-SUN, dtype: float64"
            ]
          },
          "metadata": {},
          "execution_count": 19
        }
      ]
    },
    {
      "cell_type": "code",
      "source": [
        ""
      ],
      "metadata": {
        "id": "fDISKYHqdYNW"
      },
      "execution_count": null,
      "outputs": []
    }
  ]
}