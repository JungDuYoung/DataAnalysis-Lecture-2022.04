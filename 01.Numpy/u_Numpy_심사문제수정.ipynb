{
  "nbformat": 4,
  "nbformat_minor": 0,
  "metadata": {
    "colab": {
      "name": "u_Numpy_심사문제.ipynb",
      "provenance": [],
      "collapsed_sections": []
    },
    "kernelspec": {
      "name": "python3",
      "display_name": "Python 3"
    },
    "language_info": {
      "name": "python"
    }
  },
  "cells": [
    {
      "cell_type": "code",
      "execution_count": 2,
      "metadata": {
        "id": "jjzwI7Xrb3Qt"
      },
      "outputs": [],
      "source": [
        "import numpy as np"
      ]
    },
    {
      "cell_type": "markdown",
      "source": [
        "### 연습문제 1번"
      ],
      "metadata": {
        "id": "nS51EL1Hq9zb"
      }
    },
    {
      "cell_type": "code",
      "source": [
        "a = np.arange(10,81,10).reshape(2,4)\n",
        "a"
      ],
      "metadata": {
        "colab": {
          "base_uri": "https://localhost:8080/"
        },
        "id": "FoW3dDfSca5T",
        "outputId": "782c2708-c405-4853-868b-a35224710ee1"
      },
      "execution_count": null,
      "outputs": [
        {
          "output_type": "execute_result",
          "data": {
            "text/plain": [
              "array([[10, 20, 30, 40],\n",
              "       [50, 60, 70, 80]])"
            ]
          },
          "metadata": {},
          "execution_count": 91
        }
      ]
    },
    {
      "cell_type": "code",
      "source": [
        "# 해설\n",
        "np.arange(1,9).reshape(2,4)*10"
      ],
      "metadata": {
        "colab": {
          "base_uri": "https://localhost:8080/"
        },
        "id": "mCYdHge6RmXb",
        "outputId": "03e55ed1-12cd-4f0e-c812-17d7c3c8deb4"
      },
      "execution_count": 3,
      "outputs": [
        {
          "output_type": "execute_result",
          "data": {
            "text/plain": [
              "array([[10, 20, 30, 40],\n",
              "       [50, 60, 70, 80]])"
            ]
          },
          "metadata": {},
          "execution_count": 3
        }
      ]
    },
    {
      "cell_type": "markdown",
      "source": [
        "### 연습문제 2번"
      ],
      "metadata": {
        "id": "8rnvQuhErBmq"
      }
    },
    {
      "cell_type": "code",
      "source": [
        "m = np.array([[ 0, 1, 2, 3, 4], [ 5, 6, 7, 8, 9], [10, 11, 12, 13, 14]])\n",
        "m"
      ],
      "metadata": {
        "colab": {
          "base_uri": "https://localhost:8080/"
        },
        "id": "LmHVi6FlcuRy",
        "outputId": "1dea05e6-df29-4345-8bf2-2243e835676a"
      },
      "execution_count": 8,
      "outputs": [
        {
          "output_type": "execute_result",
          "data": {
            "text/plain": [
              "array([[ 0,  1,  2,  3,  4],\n",
              "       [ 5,  6,  7,  8,  9],\n",
              "       [10, 11, 12, 13, 14]])"
            ]
          },
          "metadata": {},
          "execution_count": 8
        }
      ]
    },
    {
      "cell_type": "markdown",
      "source": [
        "- 연습문제 2-1"
      ],
      "metadata": {
        "id": "ZcO4caW6rHwa"
      }
    },
    {
      "cell_type": "code",
      "source": [
        "m[1,2]"
      ],
      "metadata": {
        "colab": {
          "base_uri": "https://localhost:8080/"
        },
        "id": "qO-1q3X3d3WN",
        "outputId": "1470a360-dacb-498f-ea90-a7708c6c6d8f"
      },
      "execution_count": null,
      "outputs": [
        {
          "output_type": "execute_result",
          "data": {
            "text/plain": [
              "7"
            ]
          },
          "metadata": {},
          "execution_count": 89
        }
      ]
    },
    {
      "cell_type": "markdown",
      "source": [
        "- 연습문제 2-2"
      ],
      "metadata": {
        "id": "pDb4Fo1arMUS"
      }
    },
    {
      "cell_type": "code",
      "source": [
        "m[2,4]"
      ],
      "metadata": {
        "colab": {
          "base_uri": "https://localhost:8080/"
        },
        "id": "rm5rNifCeU_P",
        "outputId": "0aac44b6-ea59-4b81-fb91-a9870f080f4a"
      },
      "execution_count": null,
      "outputs": [
        {
          "output_type": "execute_result",
          "data": {
            "text/plain": [
              "14"
            ]
          },
          "metadata": {},
          "execution_count": 90
        }
      ]
    },
    {
      "cell_type": "markdown",
      "source": [
        "- 연습문제 2-3"
      ],
      "metadata": {
        "id": "KBovAl2BrQsC"
      }
    },
    {
      "cell_type": "code",
      "source": [
        "m[1, 1:3]"
      ],
      "metadata": {
        "colab": {
          "base_uri": "https://localhost:8080/"
        },
        "id": "7AivrKs0e8lc",
        "outputId": "d3f8df5f-d412-4562-b420-efef17b80772"
      },
      "execution_count": null,
      "outputs": [
        {
          "output_type": "execute_result",
          "data": {
            "text/plain": [
              "array([6, 7])"
            ]
          },
          "metadata": {},
          "execution_count": 92
        }
      ]
    },
    {
      "cell_type": "code",
      "source": [
        "# 2찬원으로 만들려면\n",
        "m[1:2, 1:3]"
      ],
      "metadata": {
        "colab": {
          "base_uri": "https://localhost:8080/"
        },
        "id": "dgwWMzdmSWuR",
        "outputId": "ee0145d5-9604-41af-ffd6-21c16dc9785a"
      },
      "execution_count": 6,
      "outputs": [
        {
          "output_type": "execute_result",
          "data": {
            "text/plain": [
              "array([[6, 7]])"
            ]
          },
          "metadata": {},
          "execution_count": 6
        }
      ]
    },
    {
      "cell_type": "markdown",
      "source": [
        "- 연습문제 2-4"
      ],
      "metadata": {
        "id": "BzmEqpvOrUZS"
      }
    },
    {
      "cell_type": "code",
      "source": [
        "m[1:3, 2]"
      ],
      "metadata": {
        "colab": {
          "base_uri": "https://localhost:8080/"
        },
        "id": "XNC9CeW9fcxC",
        "outputId": "f6cf3591-b191-40d5-c607-81910c2a7f63"
      },
      "execution_count": null,
      "outputs": [
        {
          "output_type": "execute_result",
          "data": {
            "text/plain": [
              "array([ 7, 12])"
            ]
          },
          "metadata": {},
          "execution_count": 93
        }
      ]
    },
    {
      "cell_type": "markdown",
      "source": [
        "- 연습문제 2-5"
      ],
      "metadata": {
        "id": "4X7DiD36rXmy"
      }
    },
    {
      "cell_type": "code",
      "source": [
        "m[:2, 3:]"
      ],
      "metadata": {
        "colab": {
          "base_uri": "https://localhost:8080/"
        },
        "id": "HJJwquGBg3Eb",
        "outputId": "21adc179-5f43-421d-bfd9-63cc84fdb8da"
      },
      "execution_count": null,
      "outputs": [
        {
          "output_type": "execute_result",
          "data": {
            "text/plain": [
              "array([[3, 4],\n",
              "       [8, 9]])"
            ]
          },
          "metadata": {},
          "execution_count": 94
        }
      ]
    },
    {
      "cell_type": "markdown",
      "source": [
        "### 연습문제 3번"
      ],
      "metadata": {
        "id": "v_6EWX1SrdJC"
      }
    },
    {
      "cell_type": "code",
      "source": [
        "f = m.faltten()\n",
        "f"
      ],
      "metadata": {
        "colab": {
          "base_uri": "https://localhost:8080/",
          "height": 193
        },
        "id": "oTQBYaESS5IA",
        "outputId": "370fb701-4795-4c76-80a5-ba532e9c6478"
      },
      "execution_count": 9,
      "outputs": [
        {
          "output_type": "error",
          "ename": "AttributeError",
          "evalue": "ignored",
          "traceback": [
            "\u001b[0;31m---------------------------------------------------------------------------\u001b[0m",
            "\u001b[0;31mAttributeError\u001b[0m                            Traceback (most recent call last)",
            "\u001b[0;32m<ipython-input-9-6dfed9216d5b>\u001b[0m in \u001b[0;36m<module>\u001b[0;34m()\u001b[0m\n\u001b[0;32m----> 1\u001b[0;31m \u001b[0mf\u001b[0m \u001b[0;34m=\u001b[0m \u001b[0mm\u001b[0m\u001b[0;34m.\u001b[0m\u001b[0mfaltten\u001b[0m\u001b[0;34m(\u001b[0m\u001b[0;34m)\u001b[0m\u001b[0;34m\u001b[0m\u001b[0;34m\u001b[0m\u001b[0m\n\u001b[0m\u001b[1;32m      2\u001b[0m \u001b[0mf\u001b[0m\u001b[0;34m\u001b[0m\u001b[0;34m\u001b[0m\u001b[0m\n",
            "\u001b[0;31mAttributeError\u001b[0m: 'numpy.ndarray' object has no attribute 'faltten'"
          ]
        }
      ]
    },
    {
      "cell_type": "code",
      "source": [
        "f = np.array([[ 0, 1, 2, 3, 4], [ 5, 6, 7, 8, 9], [10, 11, 12, 13, 14]], dtype=np.float32)\n",
        "f"
      ],
      "metadata": {
        "colab": {
          "base_uri": "https://localhost:8080/"
        },
        "id": "F7EqOnkZhrRG",
        "outputId": "27b71f43-a58b-4e8d-afc2-151ea174d91c"
      },
      "execution_count": 10,
      "outputs": [
        {
          "output_type": "execute_result",
          "data": {
            "text/plain": [
              "array([[ 0.,  1.,  2.,  3.,  4.],\n",
              "       [ 5.,  6.,  7.,  8.,  9.],\n",
              "       [10., 11., 12., 13., 14.]], dtype=float32)"
            ]
          },
          "metadata": {},
          "execution_count": 10
        }
      ]
    },
    {
      "cell_type": "markdown",
      "source": [
        "- 연습문제 3-1"
      ],
      "metadata": {
        "id": "uFCc0EhCrhnK"
      }
    },
    {
      "cell_type": "code",
      "source": [
        "f[f % 3 == 0]"
      ],
      "metadata": {
        "colab": {
          "base_uri": "https://localhost:8080/"
        },
        "id": "dYPpY5vMpaij",
        "outputId": "3c9319f7-4520-4c60-fba4-cdeeb3e86340"
      },
      "execution_count": 11,
      "outputs": [
        {
          "output_type": "execute_result",
          "data": {
            "text/plain": [
              "array([ 0.,  3.,  6.,  9., 12.], dtype=float32)"
            ]
          },
          "metadata": {},
          "execution_count": 11
        }
      ]
    },
    {
      "cell_type": "markdown",
      "source": [
        "- 연습문제 3-2"
      ],
      "metadata": {
        "id": "kaZaju0TvWhg"
      }
    },
    {
      "cell_type": "code",
      "source": [
        "f[f % 4 == 1]"
      ],
      "metadata": {
        "colab": {
          "base_uri": "https://localhost:8080/"
        },
        "id": "Fqh3JBDRtiTC",
        "outputId": "90864c1e-1f65-4e23-ee70-919b7a86f970"
      },
      "execution_count": 12,
      "outputs": [
        {
          "output_type": "execute_result",
          "data": {
            "text/plain": [
              "array([ 1.,  5.,  9., 13.], dtype=float32)"
            ]
          },
          "metadata": {},
          "execution_count": 12
        }
      ]
    },
    {
      "cell_type": "markdown",
      "source": [
        "- 연습문제 3-3"
      ],
      "metadata": {
        "id": "0NxEt1Z9uHkZ"
      }
    },
    {
      "cell_type": "code",
      "source": [
        "f[np.logical_and(f%3==0, f%4==1)]"
      ],
      "metadata": {
        "colab": {
          "base_uri": "https://localhost:8080/"
        },
        "id": "H8jy6fYzuJbh",
        "outputId": "0ccce828-214e-4a1a-8882-915c8623d54c"
      },
      "execution_count": 13,
      "outputs": [
        {
          "output_type": "execute_result",
          "data": {
            "text/plain": [
              "array([9.], dtype=float32)"
            ]
          },
          "metadata": {},
          "execution_count": 13
        }
      ]
    },
    {
      "cell_type": "markdown",
      "source": [
        "### 연습문제 4번"
      ],
      "metadata": {
        "id": "hU5T4dlgrzqA"
      }
    },
    {
      "cell_type": "code",
      "source": [
        "# 모르겠습니다;;;"
      ],
      "metadata": {
        "id": "mMtC9YQhkZyC"
      },
      "execution_count": null,
      "outputs": []
    },
    {
      "cell_type": "code",
      "source": [
        "# 해설\n",
        "np.eye(5,5,-1,int)*3 + np.eye(5,5,0,int)*2 + np.eye(5,5,1,int)"
      ],
      "metadata": {
        "colab": {
          "base_uri": "https://localhost:8080/"
        },
        "id": "YSNd4LfnTel4",
        "outputId": "eb940849-075d-477a-897f-9e56c3f07170"
      },
      "execution_count": 32,
      "outputs": [
        {
          "output_type": "execute_result",
          "data": {
            "text/plain": [
              "array([[2, 1, 0, 0, 0],\n",
              "       [3, 2, 1, 0, 0],\n",
              "       [0, 3, 2, 1, 0],\n",
              "       [0, 0, 3, 2, 1],\n",
              "       [0, 0, 0, 3, 2]])"
            ]
          },
          "metadata": {},
          "execution_count": 32
        }
      ]
    },
    {
      "cell_type": "markdown",
      "source": [
        "### 연습문제 5번"
      ],
      "metadata": {
        "id": "ZIN-ezcPyr_n"
      }
    },
    {
      "cell_type": "code",
      "source": [
        "a = np.random.rand(5, 6)\n",
        "a"
      ],
      "metadata": {
        "colab": {
          "base_uri": "https://localhost:8080/"
        },
        "id": "f_hxVN8BmcXy",
        "outputId": "0bd53cad-52f3-477f-d529-e46053cb5b10"
      },
      "execution_count": null,
      "outputs": [
        {
          "output_type": "execute_result",
          "data": {
            "text/plain": [
              "array([[0.75696241, 0.28475976, 0.38312761, 0.96157016, 0.92963517,\n",
              "        0.8356421 ],\n",
              "       [0.31849542, 0.94672057, 0.35322441, 0.98210988, 0.66171664,\n",
              "        0.06744003],\n",
              "       [0.68433653, 0.47813489, 0.12668554, 0.92374161, 0.40874218,\n",
              "        0.36713395],\n",
              "       [0.13618787, 0.09769615, 0.85839432, 0.60173984, 0.28870786,\n",
              "        0.39027214],\n",
              "       [0.80590103, 0.45670874, 0.48874797, 0.34269334, 0.46653794,\n",
              "        0.37346052]])"
            ]
          },
          "metadata": {},
          "execution_count": 135
        }
      ]
    },
    {
      "cell_type": "code",
      "source": [
        "# 해설\n",
        "np.random.seed(2022)\n",
        "m = np.random.uniform(0,10,30).reshape(5,6).round(4)\n",
        "m"
      ],
      "metadata": {
        "colab": {
          "base_uri": "https://localhost:8080/"
        },
        "id": "3Z9zHoGKUTvp",
        "outputId": "bf600ac7-16ac-403a-f573-3bbc80e31806"
      },
      "execution_count": 23,
      "outputs": [
        {
          "output_type": "execute_result",
          "data": {
            "text/plain": [
              "array([[0.0936, 4.9906, 1.1338, 0.4997, 6.8541, 4.8699],\n",
              "       [8.9766, 6.4745, 8.9696, 7.2113, 8.3135, 8.2757],\n",
              "       [8.3358, 9.5704, 3.6804, 4.9484, 3.3951, 6.1943],\n",
              "       [9.7753, 0.9643, 7.4421, 2.925 , 2.9868, 7.5247],\n",
              "       [0.1866, 5.2374, 8.6444, 3.8884, 2.1219, 4.7518]])"
            ]
          },
          "metadata": {},
          "execution_count": 23
        }
      ]
    },
    {
      "cell_type": "markdown",
      "source": [
        "- 연습문제 5-1"
      ],
      "metadata": {
        "id": "aTuxRjdoy0QX"
      }
    },
    {
      "cell_type": "code",
      "source": [
        "a.sum()"
      ],
      "metadata": {
        "colab": {
          "base_uri": "https://localhost:8080/"
        },
        "id": "6OANRI3JzLvA",
        "outputId": "4f64bbd5-0c3d-4476-a7bb-3b50180e5c93"
      },
      "execution_count": null,
      "outputs": [
        {
          "output_type": "execute_result",
          "data": {
            "text/plain": [
              "15.777226568043838"
            ]
          },
          "metadata": {},
          "execution_count": 136
        }
      ]
    },
    {
      "cell_type": "code",
      "source": [
        "# 해설\n",
        "m.max()"
      ],
      "metadata": {
        "colab": {
          "base_uri": "https://localhost:8080/"
        },
        "id": "FEno9oSJUiCI",
        "outputId": "7f63136e-b054-4906-83a4-2fb46b3b928a"
      },
      "execution_count": 24,
      "outputs": [
        {
          "output_type": "execute_result",
          "data": {
            "text/plain": [
              "9.7753"
            ]
          },
          "metadata": {},
          "execution_count": 24
        }
      ]
    },
    {
      "cell_type": "markdown",
      "source": [
        "- 연습문제 5-2"
      ],
      "metadata": {
        "id": "faqC6FEuzJKw"
      }
    },
    {
      "cell_type": "code",
      "source": [
        "m.sum(axis=1)"
      ],
      "metadata": {
        "colab": {
          "base_uri": "https://localhost:8080/"
        },
        "id": "e9GBR-0xpMxz",
        "outputId": "f06a8875-277f-4fa1-ea28-495460c954eb"
      },
      "execution_count": 25,
      "outputs": [
        {
          "output_type": "execute_result",
          "data": {
            "text/plain": [
              "array([18.4417, 48.2212, 36.1244, 31.6182, 24.8305])"
            ]
          },
          "metadata": {},
          "execution_count": 25
        }
      ]
    },
    {
      "cell_type": "markdown",
      "source": [
        "- 연습문제 5-3"
      ],
      "metadata": {
        "id": "aVL9lFh-zbyH"
      }
    },
    {
      "cell_type": "code",
      "source": [
        "m.max(axis=1)"
      ],
      "metadata": {
        "colab": {
          "base_uri": "https://localhost:8080/"
        },
        "id": "6P9ZElgczdkH",
        "outputId": "26773fdb-a2b7-4327-f407-300a5ab0852a"
      },
      "execution_count": 26,
      "outputs": [
        {
          "output_type": "execute_result",
          "data": {
            "text/plain": [
              "array([6.8541, 8.9766, 9.5704, 9.7753, 8.6444])"
            ]
          },
          "metadata": {},
          "execution_count": 26
        }
      ]
    },
    {
      "cell_type": "markdown",
      "source": [
        "- 연습문제 5-4"
      ],
      "metadata": {
        "id": "3KN5U29izd-H"
      }
    },
    {
      "cell_type": "code",
      "source": [
        "m.mean(axis=0)"
      ],
      "metadata": {
        "colab": {
          "base_uri": "https://localhost:8080/"
        },
        "id": "bnXHJVYezgKQ",
        "outputId": "6d023ad7-f966-481a-ee31-ce8cebd2996d"
      },
      "execution_count": 27,
      "outputs": [
        {
          "output_type": "execute_result",
          "data": {
            "text/plain": [
              "array([5.47358, 5.44744, 5.97406, 3.89456, 4.73428, 6.32328])"
            ]
          },
          "metadata": {},
          "execution_count": 27
        }
      ]
    },
    {
      "cell_type": "markdown",
      "source": [
        "- 연습문제 5-5"
      ],
      "metadata": {
        "id": "zwUVwkpSzgfO"
      }
    },
    {
      "cell_type": "code",
      "source": [
        "m.min(axis=0)"
      ],
      "metadata": {
        "colab": {
          "base_uri": "https://localhost:8080/"
        },
        "id": "NrNRYCJ0zh-2",
        "outputId": "dba99b60-7a55-4368-945f-8849ebd22d53"
      },
      "execution_count": 31,
      "outputs": [
        {
          "output_type": "execute_result",
          "data": {
            "text/plain": [
              "array([0.0936, 0.9643, 1.1338, 0.4997, 2.1219, 4.7518])"
            ]
          },
          "metadata": {},
          "execution_count": 31
        }
      ]
    },
    {
      "cell_type": "markdown",
      "source": [
        "### 연습문제 6번"
      ],
      "metadata": {
        "id": "OT76KQICz___"
      }
    },
    {
      "cell_type": "code",
      "source": [
        "x = np.array([[ 1, 2, 3, 4], [ 46, 99, 100, 71], [ 81, 59, 90, 100]])\n",
        "x"
      ],
      "metadata": {
        "colab": {
          "base_uri": "https://localhost:8080/"
        },
        "id": "t0nwaFCK0EBn",
        "outputId": "510df502-637a-467d-b606-b4908848944f"
      },
      "execution_count": null,
      "outputs": [
        {
          "output_type": "execute_result",
          "data": {
            "text/plain": [
              "array([[  1,   2,   3,   4],\n",
              "       [ 46,  99, 100,  71],\n",
              "       [ 81,  59,  90, 100]])"
            ]
          },
          "metadata": {},
          "execution_count": 129
        }
      ]
    },
    {
      "cell_type": "code",
      "source": [
        "# 잘 모르겠습니다.\n",
        "np.sort(x)"
      ],
      "metadata": {
        "colab": {
          "base_uri": "https://localhost:8080/"
        },
        "id": "xBom2cdO0mv2",
        "outputId": "413ed1c9-c1e7-4512-a1a7-988ccf252ab2"
      },
      "execution_count": null,
      "outputs": [
        {
          "output_type": "execute_result",
          "data": {
            "text/plain": [
              "array([[  1,   2,   3,   4],\n",
              "       [ 46,  71,  99, 100],\n",
              "       [ 59,  81,  90, 100]])"
            ]
          },
          "metadata": {},
          "execution_count": 147
        }
      ]
    },
    {
      "cell_type": "code",
      "source": [
        "# 해설\n",
        "score = np.array([[ 1, 2, 3, 4], [ 46, 99, 100, 71], [ 81, 59, 90, 100]])\n",
        "score"
      ],
      "metadata": {
        "colab": {
          "base_uri": "https://localhost:8080/"
        },
        "id": "ms3oOfFvV7I7",
        "outputId": "e52302b0-7761-45e3-b06e-936183a2d37b"
      },
      "execution_count": 35,
      "outputs": [
        {
          "output_type": "execute_result",
          "data": {
            "text/plain": [
              "array([[  1,   2,   3,   4],\n",
              "       [ 46,  99, 100,  71],\n",
              "       [ 81,  59,  90, 100]])"
            ]
          },
          "metadata": {},
          "execution_count": 35
        }
      ]
    },
    {
      "cell_type": "code",
      "source": [
        "# 영어 성적을 argsort()\n",
        "indices = np.argsort(score[1])\n",
        "indices"
      ],
      "metadata": {
        "colab": {
          "base_uri": "https://localhost:8080/"
        },
        "id": "DpqzgpJOV7H5",
        "outputId": "2a776490-3af1-4c2e-d49b-2c9af042bbfa"
      },
      "execution_count": 36,
      "outputs": [
        {
          "output_type": "execute_result",
          "data": {
            "text/plain": [
              "array([0, 3, 1, 2])"
            ]
          },
          "metadata": {},
          "execution_count": 36
        }
      ]
    },
    {
      "cell_type": "code",
      "source": [
        "# 내림차순\n",
        "indices[::-1]"
      ],
      "metadata": {
        "colab": {
          "base_uri": "https://localhost:8080/"
        },
        "id": "cwcMK-HGWJk5",
        "outputId": "99a78743-2283-4e4e-ec57-016c5d7ae0e1"
      },
      "execution_count": 37,
      "outputs": [
        {
          "output_type": "execute_result",
          "data": {
            "text/plain": [
              "array([2, 1, 3, 0])"
            ]
          },
          "metadata": {},
          "execution_count": 37
        }
      ]
    },
    {
      "cell_type": "code",
      "source": [
        "# 모든 행을 영어성적 내림차순 기준으로 정렬\n",
        "score[:, indices[::-1]]"
      ],
      "metadata": {
        "colab": {
          "base_uri": "https://localhost:8080/"
        },
        "id": "bWtRfaQVWJcX",
        "outputId": "819eec49-c9fb-4e82-99e5-a850e3873625"
      },
      "execution_count": 38,
      "outputs": [
        {
          "output_type": "execute_result",
          "data": {
            "text/plain": [
              "array([[  3,   2,   4,   1],\n",
              "       [100,  99,  71,  46],\n",
              "       [ 90,  59, 100,  81]])"
            ]
          },
          "metadata": {},
          "execution_count": 38
        }
      ]
    },
    {
      "cell_type": "code",
      "source": [
        "# 한 줄로\n",
        "score[:, np.argsort(score[1])[::-1]]"
      ],
      "metadata": {
        "colab": {
          "base_uri": "https://localhost:8080/"
        },
        "id": "nKqnX4mzWaLX",
        "outputId": "285794c0-003d-4611-df0d-291b0414d0b9"
      },
      "execution_count": 39,
      "outputs": [
        {
          "output_type": "execute_result",
          "data": {
            "text/plain": [
              "array([[  3,   2,   4,   1],\n",
              "       [100,  99,  71,  46],\n",
              "       [ 90,  59, 100,  81]])"
            ]
          },
          "metadata": {},
          "execution_count": 39
        }
      ]
    },
    {
      "cell_type": "markdown",
      "source": [
        "### 연습문제 7번"
      ],
      "metadata": {
        "id": "cquGz_0K0Eyv"
      }
    },
    {
      "cell_type": "code",
      "source": [
        "a = np.random.randint(1, 7, size=100)\n",
        "a"
      ],
      "metadata": {
        "colab": {
          "base_uri": "https://localhost:8080/"
        },
        "id": "7sljAbSWm9j5",
        "outputId": "a4a90426-f914-45db-b427-be3493bbf185"
      },
      "execution_count": null,
      "outputs": [
        {
          "output_type": "execute_result",
          "data": {
            "text/plain": [
              "array([5, 3, 1, 5, 5, 1, 3, 5, 5, 2, 6, 4, 6, 4, 4, 6, 6, 5, 1, 6, 5, 6,\n",
              "       1, 6, 6, 4, 4, 3, 1, 4, 6, 1, 2, 4, 3, 6, 3, 1, 6, 3, 1, 5, 2, 6,\n",
              "       5, 4, 1, 5, 6, 4, 5, 5, 1, 2, 1, 4, 6, 5, 6, 3, 2, 4, 3, 6, 1, 2,\n",
              "       3, 1, 3, 5, 2, 5, 3, 6, 6, 2, 5, 2, 4, 3, 2, 5, 5, 2, 4, 5, 3, 5,\n",
              "       1, 2, 4, 4, 3, 1, 3, 3, 3, 2, 2, 1])"
            ]
          },
          "metadata": {},
          "execution_count": 133
        }
      ]
    },
    {
      "cell_type": "code",
      "source": [
        "# 해설\n",
        "np.random.seed(2022)\n",
        "dice = np.random.randint(1, 7, 100)\n",
        "dice"
      ],
      "metadata": {
        "colab": {
          "base_uri": "https://localhost:8080/"
        },
        "id": "yLT5CekFW-42",
        "outputId": "790dbf20-4170-4799-d9d4-6e40e93f1ed8"
      },
      "execution_count": 40,
      "outputs": [
        {
          "output_type": "execute_result",
          "data": {
            "text/plain": [
              "array([6, 5, 6, 1, 2, 2, 1, 1, 3, 1, 1, 6, 2, 2, 4, 4, 4, 1, 4, 1, 4, 1,\n",
              "       6, 1, 3, 3, 4, 2, 3, 1, 6, 6, 2, 6, 6, 5, 1, 3, 3, 3, 4, 5, 6, 2,\n",
              "       3, 5, 1, 6, 6, 5, 3, 6, 1, 6, 6, 6, 6, 6, 1, 4, 4, 3, 5, 1, 2, 5,\n",
              "       2, 1, 6, 6, 1, 1, 4, 2, 6, 4, 3, 2, 6, 3, 2, 5, 2, 3, 3, 2, 6, 2,\n",
              "       3, 2, 5, 4, 1, 5, 5, 5, 5, 1, 2, 3])"
            ]
          },
          "metadata": {},
          "execution_count": 40
        }
      ]
    },
    {
      "cell_type": "code",
      "source": [
        "np.mean(dice)"
      ],
      "metadata": {
        "colab": {
          "base_uri": "https://localhost:8080/"
        },
        "id": "lshlqZwHoEGC",
        "outputId": "dfa2c164-6a90-4899-f508-1a5256d88377"
      },
      "execution_count": 41,
      "outputs": [
        {
          "output_type": "execute_result",
          "data": {
            "text/plain": [
              "3.47"
            ]
          },
          "metadata": {},
          "execution_count": 41
        }
      ]
    },
    {
      "cell_type": "code",
      "source": [
        "# dice array에서의 고유값\n",
        "np.unique(dice)"
      ],
      "metadata": {
        "colab": {
          "base_uri": "https://localhost:8080/"
        },
        "id": "CUR7irlkXLN-",
        "outputId": "b4d88dc5-51ea-440d-dedf-b4b94a4b58c6"
      },
      "execution_count": 42,
      "outputs": [
        {
          "output_type": "execute_result",
          "data": {
            "text/plain": [
              "array([1, 2, 3, 4, 5, 6])"
            ]
          },
          "metadata": {},
          "execution_count": 42
        }
      ]
    },
    {
      "cell_type": "code",
      "source": [
        "# dice array에서의 고유값 및 그 갯수\n",
        "np.unique(dice, return_counts=True)"
      ],
      "metadata": {
        "colab": {
          "base_uri": "https://localhost:8080/"
        },
        "id": "AeHZSnvoXLL2",
        "outputId": "ef2c5665-49ef-4528-ef11-44e36dbc4034"
      },
      "execution_count": 43,
      "outputs": [
        {
          "output_type": "execute_result",
          "data": {
            "text/plain": [
              "(array([1, 2, 3, 4, 5, 6]), array([20, 17, 16, 12, 13, 22]))"
            ]
          },
          "metadata": {},
          "execution_count": 43
        }
      ]
    },
    {
      "cell_type": "code",
      "source": [
        "unique, counts = np.unique(dice, return_counts=True)\n",
        "dict(zip(unique, counts))"
      ],
      "metadata": {
        "colab": {
          "base_uri": "https://localhost:8080/"
        },
        "id": "eaKKMv2uXLJu",
        "outputId": "8c0d3c2d-53dc-4fb3-e124-2cf6e6855782"
      },
      "execution_count": 45,
      "outputs": [
        {
          "output_type": "execute_result",
          "data": {
            "text/plain": [
              "{1: 20, 2: 17, 3: 16, 4: 12, 5: 13, 6: 22}"
            ]
          },
          "metadata": {},
          "execution_count": 45
        }
      ]
    },
    {
      "cell_type": "markdown",
      "source": [
        "### 연습문제 8번"
      ],
      "metadata": {
        "id": "njpTd8bO0H1X"
      }
    },
    {
      "cell_type": "code",
      "source": [
        "# 잘 모르겠습니다."
      ],
      "metadata": {
        "id": "kpMbuNtEoOj5"
      },
      "execution_count": null,
      "outputs": []
    },
    {
      "cell_type": "code",
      "source": [
        "# 5개만 먼저 테스트\n",
        "np.random.seed(2022)\n",
        "rate = np.random.normal(0, 0.01, 5)\n",
        "price = 10000\n",
        "for i in range(5):\n",
        "    price = np.round(price * (1 + rate[i]))\n",
        "    print(int(price), end=' ')"
      ],
      "metadata": {
        "colab": {
          "base_uri": "https://localhost:8080/"
        },
        "id": "QtZESGftXmFh",
        "outputId": "bdca09f6-26ba-40f7-827a-85e5f53c7c5a"
      },
      "execution_count": 46,
      "outputs": [
        {
          "output_type": "stream",
          "name": "stdout",
          "text": [
            "10000 9973 9959 10157 10186 "
          ]
        }
      ]
    },
    {
      "cell_type": "code",
      "source": [
        "# 위에서 구한 이자율(%)\n",
        "rate"
      ],
      "metadata": {
        "colab": {
          "base_uri": "https://localhost:8080/"
        },
        "id": "f12nwA8-YpNW",
        "outputId": "29c2d85f-9788-4fa4-f796-bf4b0c7c1c06"
      },
      "execution_count": 48,
      "outputs": [
        {
          "output_type": "execute_result",
          "data": {
            "text/plain": [
              "array([-5.27899086e-06, -2.74901425e-03, -1.39285562e-03,  1.98468616e-02,\n",
              "        2.82109326e-03])"
            ]
          },
          "metadata": {},
          "execution_count": 48
        }
      ]
    },
    {
      "cell_type": "code",
      "source": [
        "# 250개 정규분포, 리스트 활용\n",
        "np.random.seed(2022)\n",
        "rate = np.random.normal(0, 0.01, 250)\n",
        "price = 10000\n",
        "price_list = []\n",
        "for i in range(250):\n",
        "    price = price + np.round(price * rate[i])\n",
        "    price_list.append(price)\n",
        "\n",
        "price_array = np.array(price_list, dtype=np.int32)\n",
        "price_array[-10:]"
      ],
      "metadata": {
        "colab": {
          "base_uri": "https://localhost:8080/"
        },
        "id": "39J5_31pXl8e",
        "outputId": "cffd80f6-c6f9-4641-c8d9-f53293f827ab"
      },
      "execution_count": 56,
      "outputs": [
        {
          "output_type": "execute_result",
          "data": {
            "text/plain": [
              "array([10916, 10834, 10753, 10838, 10950, 11089, 11006, 11182, 11360,\n",
              "       11658], dtype=int32)"
            ]
          },
          "metadata": {},
          "execution_count": 56
        }
      ]
    },
    {
      "cell_type": "code",
      "source": [
        "# 정규분포, 어레이 활용\n",
        "np.random.seed(2022)\n",
        "rate = np.random.normal(0, 0.01, 250)\n",
        "price = 10000\n",
        "price_array = np.empty(250, dtype=np.int32)\n",
        "\n",
        "for i in range(250):\n",
        "    price = price + np.round(price * rate[i])\n",
        "    price_array[i] = price\n",
        "\n",
        "price_array[-10:]"
      ],
      "metadata": {
        "colab": {
          "base_uri": "https://localhost:8080/"
        },
        "id": "ZEhMAw16ZUel",
        "outputId": "efd5999b-fbc8-406a-e0fc-e149fab8c719"
      },
      "execution_count": 55,
      "outputs": [
        {
          "output_type": "execute_result",
          "data": {
            "text/plain": [
              "array([10916, 10834, 10753, 10838, 10950, 11089, 11006, 11182, 11360,\n",
              "       11658], dtype=int32)"
            ]
          },
          "metadata": {},
          "execution_count": 55
        }
      ]
    },
    {
      "cell_type": "code",
      "source": [
        "# 표준정규분포를 이용한 경우\n",
        "np.random.seed(2022)\n",
        "rate = np.random.randn(250)\n",
        "price = 10000\n",
        "price_array = np.empty(250, dtype=np.int32)\n",
        "\n",
        "for i in range(250):\n",
        "    price = price + np.round(price * rate[i]*0.01)\n",
        "    price_array[i] = price\n",
        "\n",
        "price_array[-10:]"
      ],
      "metadata": {
        "colab": {
          "base_uri": "https://localhost:8080/"
        },
        "id": "Rweafl1uaBN9",
        "outputId": "3a55bbcc-f983-4452-cdab-fd9431dad0dd"
      },
      "execution_count": 54,
      "outputs": [
        {
          "output_type": "execute_result",
          "data": {
            "text/plain": [
              "array([10916, 10834, 10753, 10838, 10950, 11089, 11006, 11182, 11360,\n",
              "       11658], dtype=int32)"
            ]
          },
          "metadata": {},
          "execution_count": 54
        }
      ]
    },
    {
      "cell_type": "code",
      "source": [
        "%%shell\n",
        "jupyter nbconvert --to html /content/drive/MyDrive/\"Colab Notebooks\"/u_Numpy_심사문제.ipynb"
      ],
      "metadata": {
        "colab": {
          "base_uri": "https://localhost:8080/"
        },
        "id": "flRoSaKl5Fyb",
        "outputId": "06b8a7cb-2b8f-4fc0-a948-6495512c2f4e"
      },
      "execution_count": null,
      "outputs": [
        {
          "output_type": "stream",
          "name": "stdout",
          "text": [
            "[NbConvertApp] Converting notebook /content/drive/MyDrive/Colab Notebooks/u_Numpy_심사문제.ipynb to html\n",
            "[NbConvertApp] Writing 299537 bytes to /content/drive/MyDrive/Colab Notebooks/u_Numpy_심사문제.html\n"
          ]
        },
        {
          "output_type": "execute_result",
          "data": {
            "text/plain": [
              ""
            ]
          },
          "metadata": {},
          "execution_count": 1
        }
      ]
    },
    {
      "cell_type": "code",
      "source": [
        ""
      ],
      "metadata": {
        "id": "w70PxGTq5L3M"
      },
      "execution_count": null,
      "outputs": []
    }
  ]
}